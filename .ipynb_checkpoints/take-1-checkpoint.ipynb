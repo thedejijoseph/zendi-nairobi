{
 "cells": [
  {
   "cell_type": "markdown",
   "metadata": {},
   "source": [
    "i have a couple of questions:\n",
    "\n",
    "how many tickets are sold (on average) per day\n",
    "what is the relationship between the type of vehicle and the number of vehicles sold for it per day\n",
    "\n",
    "<b>data points?</b>\n",
    "\n",
    "how many tickets did a vehicle sell on a particular day on a particular route\n"
   ]
  },
  {
   "cell_type": "markdown",
   "metadata": {},
   "source": [
    "so.. post take one\n",
    "\n",
    "the question up there started me out but it would seem it didnt take me where I wanted.. I'm going at it again."
   ]
  },
  {
   "cell_type": "code",
   "execution_count": 2,
   "metadata": {},
   "outputs": [],
   "source": [
    "import pandas as pd\n",
    "import numpy as np\n",
    "\n",
    "from sklearn import utils\n",
    "\n",
    "import re"
   ]
  },
  {
   "cell_type": "code",
   "execution_count": 4,
   "metadata": {},
   "outputs": [],
   "source": [
    "data = pd.read_csv('data/train_data.csv')"
   ]
  },
  {
   "cell_type": "code",
   "execution_count": 5,
   "metadata": {},
   "outputs": [],
   "source": [
    "# answering quick question 1\n",
    "# get the number of tickets sold per vehicle per trip\n",
    "# make counter object\n",
    "from collections import Counter\n",
    "ticket_counter = Counter(data['ride_id'])"
   ]
  },
  {
   "cell_type": "code",
   "execution_count": 6,
   "metadata": {},
   "outputs": [],
   "source": [
    "# reduce the occurence of values across the dataset\n",
    "# since a unique ride_id means that vehicle is making a trip\n",
    "# count the number of tickets sold for that trip\n",
    "\n",
    "# new_data contains most informative characteristics of a particular trip\n",
    "new_data = data.drop(columns=['seat_number', 'payment_method', 'payment_receipt']).drop_duplicates()"
   ]
  },
  {
   "cell_type": "code",
   "execution_count": 7,
   "metadata": {},
   "outputs": [],
   "source": [
    "# ticket count\n",
    "new_data['ticket_count'] = ticket_counter.values()"
   ]
  },
  {
   "cell_type": "code",
   "execution_count": 8,
   "metadata": {},
   "outputs": [
    {
     "data": {
      "text/html": [
       "<div>\n",
       "<style scoped>\n",
       "    .dataframe tbody tr th:only-of-type {\n",
       "        vertical-align: middle;\n",
       "    }\n",
       "\n",
       "    .dataframe tbody tr th {\n",
       "        vertical-align: top;\n",
       "    }\n",
       "\n",
       "    .dataframe thead th {\n",
       "        text-align: right;\n",
       "    }\n",
       "</style>\n",
       "<table border=\"1\" class=\"dataframe\">\n",
       "  <thead>\n",
       "    <tr style=\"text-align: right;\">\n",
       "      <th></th>\n",
       "      <th>ride_id</th>\n",
       "      <th>travel_date</th>\n",
       "      <th>travel_time</th>\n",
       "      <th>travel_from</th>\n",
       "      <th>travel_to</th>\n",
       "      <th>car_type</th>\n",
       "      <th>max_capacity</th>\n",
       "      <th>ticket_count</th>\n",
       "    </tr>\n",
       "  </thead>\n",
       "  <tbody>\n",
       "    <tr>\n",
       "      <th>51575</th>\n",
       "      <td>13812</td>\n",
       "      <td>20-04-18</td>\n",
       "      <td>23:10</td>\n",
       "      <td>Ndhiwa</td>\n",
       "      <td>Nairobi</td>\n",
       "      <td>Bus</td>\n",
       "      <td>49.0</td>\n",
       "      <td>11</td>\n",
       "    </tr>\n",
       "    <tr>\n",
       "      <th>51605</th>\n",
       "      <td>13813</td>\n",
       "      <td>20-04-18</td>\n",
       "      <td>7:05</td>\n",
       "      <td>Ndhiwa</td>\n",
       "      <td>Nairobi</td>\n",
       "      <td>Bus</td>\n",
       "      <td>49.0</td>\n",
       "      <td>11</td>\n",
       "    </tr>\n",
       "    <tr>\n",
       "      <th>51639</th>\n",
       "      <td>13825</td>\n",
       "      <td>20-04-18</td>\n",
       "      <td>7:09</td>\n",
       "      <td>Rongo</td>\n",
       "      <td>Nairobi</td>\n",
       "      <td>Bus</td>\n",
       "      <td>49.0</td>\n",
       "      <td>1</td>\n",
       "    </tr>\n",
       "    <tr>\n",
       "      <th>51640</th>\n",
       "      <td>13826</td>\n",
       "      <td>20-04-18</td>\n",
       "      <td>8:00</td>\n",
       "      <td>Awendo</td>\n",
       "      <td>Nairobi</td>\n",
       "      <td>Bus</td>\n",
       "      <td>49.0</td>\n",
       "      <td>1</td>\n",
       "    </tr>\n",
       "    <tr>\n",
       "      <th>51644</th>\n",
       "      <td>14304</td>\n",
       "      <td>14-11-17</td>\n",
       "      <td>5:10</td>\n",
       "      <td>Kisii</td>\n",
       "      <td>Nairobi</td>\n",
       "      <td>Bus</td>\n",
       "      <td>49.0</td>\n",
       "      <td>1</td>\n",
       "    </tr>\n",
       "  </tbody>\n",
       "</table>\n",
       "</div>"
      ],
      "text/plain": [
       "      ride_id travel_date travel_time travel_from travel_to car_type  \\\n",
       "51575   13812    20-04-18       23:10      Ndhiwa   Nairobi      Bus   \n",
       "51605   13813    20-04-18        7:05      Ndhiwa   Nairobi      Bus   \n",
       "51639   13825    20-04-18        7:09       Rongo   Nairobi      Bus   \n",
       "51640   13826    20-04-18        8:00      Awendo   Nairobi      Bus   \n",
       "51644   14304    14-11-17        5:10       Kisii   Nairobi      Bus   \n",
       "\n",
       "       max_capacity  ticket_count  \n",
       "51575          49.0            11  \n",
       "51605          49.0            11  \n",
       "51639          49.0             1  \n",
       "51640          49.0             1  \n",
       "51644          49.0             1  "
      ]
     },
     "execution_count": 8,
     "metadata": {},
     "output_type": "execute_result"
    }
   ],
   "source": [
    "new_data = new_data[:-1]\n",
    "new_data.tail()"
   ]
  },
  {
   "cell_type": "code",
   "execution_count": 9,
   "metadata": {},
   "outputs": [],
   "source": [
    "def vehicle_convert(v_type):\n",
    "    if v_type == \"Bus\":\n",
    "        return 1\n",
    "    else:\n",
    "        return 0\n",
    "\n",
    "def from_convert(source):\n",
    "    sources = ['Awendo', 'Homa Bay', 'Kehancha', 'Kendu Bay',\n",
    "              'Keroka', 'Kijauri', 'Kisii', 'Mbita', 'Migori', 'Ndhiwa', \n",
    "              'Nyachenge', 'Rodi', 'Rongo', 'Sirare', 'Keumbu',\n",
    "              'Oyugis', 'Sori']\n",
    "    return sources.index(source)"
   ]
  },
  {
   "cell_type": "code",
   "execution_count": 10,
   "metadata": {},
   "outputs": [],
   "source": [
    "# prep a dataset for machine learning\n",
    "from sklearn import utils\n",
    "\n",
    "dataset = utils.Bunch()\n",
    "dataset.target = new_data['ticket_count']\n",
    "dud_data = new_data.drop(columns=['ride_id', 'travel_to', 'ticket_count'])\n",
    "\n",
    "dud_data['travel_from'] = [from_convert(i) for i in dud_data['travel_from']]\n",
    "dud_data['car_type'] = [vehicle_convert(i) for i in dud_data['car_type']]\n",
    "dud_data['date_time'] = [pd.to_datetime(i).toordinal() for i in dud_data['travel_date']+\"T\"+dud_data['travel_time']]\n",
    "\n",
    "dataset.data = dud_data.drop(columns=['travel_date', 'travel_time'])"
   ]
  },
  {
   "cell_type": "code",
   "execution_count": 21,
   "metadata": {},
   "outputs": [
    {
     "name": "stdout",
     "output_type": "stream",
     "text": [
      "131.66941347552108\n"
     ]
    }
   ],
   "source": [
    "from sklearn.linear_model import LogisticRegression\n",
    "\n",
    "from sklearn.model_selection import train_test_split\n",
    "from sklearn.metrics import mean_squared_error\n",
    "\n",
    "\n",
    "model = LogisticRegression()\n",
    "x_train, x_test, y_train, y_test = train_test_split(dataset.data, dataset.target, test_size=0.33)\n",
    "model.fit(x_train, y_train)\n",
    "print(mean_squared_error(model.predict(x_test), y_test))"
   ]
  },
  {
   "cell_type": "code",
   "execution_count": null,
   "metadata": {},
   "outputs": [],
   "source": []
  }
 ],
 "metadata": {
  "kernelspec": {
   "display_name": "Python 3",
   "language": "python",
   "name": "python3"
  },
  "language_info": {
   "codemirror_mode": {
    "name": "ipython",
    "version": 3
   },
   "file_extension": ".py",
   "mimetype": "text/x-python",
   "name": "python",
   "nbconvert_exporter": "python",
   "pygments_lexer": "ipython3",
   "version": "3.6.5"
  }
 },
 "nbformat": 4,
 "nbformat_minor": 2
}
